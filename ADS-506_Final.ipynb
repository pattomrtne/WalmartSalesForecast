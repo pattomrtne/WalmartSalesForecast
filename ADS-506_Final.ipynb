{
 "cells": [
  {
   "cell_type": "code",
   "execution_count": 5,
   "metadata": {
    "vscode": {
     "languageId": "r"
    }
   },
   "outputs": [
    {
     "data": {
      "text/html": [
       "<table class=\"dataframe\">\n",
       "<caption>A data.frame: 6 × 12</caption>\n",
       "<thead>\n",
       "\t<tr><th></th><th scope=col>Store</th><th scope=col>Date</th><th scope=col>Temperature</th><th scope=col>Fuel_Price</th><th scope=col>MarkDown1</th><th scope=col>MarkDown2</th><th scope=col>MarkDown3</th><th scope=col>MarkDown4</th><th scope=col>MarkDown5</th><th scope=col>CPI</th><th scope=col>Unemployment</th><th scope=col>IsHoliday</th></tr>\n",
       "\t<tr><th></th><th scope=col>&lt;int&gt;</th><th scope=col>&lt;chr&gt;</th><th scope=col>&lt;dbl&gt;</th><th scope=col>&lt;dbl&gt;</th><th scope=col>&lt;dbl&gt;</th><th scope=col>&lt;dbl&gt;</th><th scope=col>&lt;dbl&gt;</th><th scope=col>&lt;dbl&gt;</th><th scope=col>&lt;dbl&gt;</th><th scope=col>&lt;dbl&gt;</th><th scope=col>&lt;dbl&gt;</th><th scope=col>&lt;lgl&gt;</th></tr>\n",
       "</thead>\n",
       "<tbody>\n",
       "\t<tr><th scope=row>1</th><td>1</td><td>2010-02-05</td><td>42.31</td><td>2.572</td><td>NA</td><td>NA</td><td>NA</td><td>NA</td><td>NA</td><td>211.0964</td><td>8.106</td><td>FALSE</td></tr>\n",
       "\t<tr><th scope=row>2</th><td>1</td><td>2010-02-12</td><td>38.51</td><td>2.548</td><td>NA</td><td>NA</td><td>NA</td><td>NA</td><td>NA</td><td>211.2422</td><td>8.106</td><td> TRUE</td></tr>\n",
       "\t<tr><th scope=row>3</th><td>1</td><td>2010-02-19</td><td>39.93</td><td>2.514</td><td>NA</td><td>NA</td><td>NA</td><td>NA</td><td>NA</td><td>211.2891</td><td>8.106</td><td>FALSE</td></tr>\n",
       "\t<tr><th scope=row>4</th><td>1</td><td>2010-02-26</td><td>46.63</td><td>2.561</td><td>NA</td><td>NA</td><td>NA</td><td>NA</td><td>NA</td><td>211.3196</td><td>8.106</td><td>FALSE</td></tr>\n",
       "\t<tr><th scope=row>5</th><td>1</td><td>2010-03-05</td><td>46.50</td><td>2.625</td><td>NA</td><td>NA</td><td>NA</td><td>NA</td><td>NA</td><td>211.3501</td><td>8.106</td><td>FALSE</td></tr>\n",
       "\t<tr><th scope=row>6</th><td>1</td><td>2010-03-12</td><td>57.79</td><td>2.667</td><td>NA</td><td>NA</td><td>NA</td><td>NA</td><td>NA</td><td>211.3806</td><td>8.106</td><td>FALSE</td></tr>\n",
       "</tbody>\n",
       "</table>\n"
      ],
      "text/latex": [
       "A data.frame: 6 × 12\n",
       "\\begin{tabular}{r|llllllllllll}\n",
       "  & Store & Date & Temperature & Fuel\\_Price & MarkDown1 & MarkDown2 & MarkDown3 & MarkDown4 & MarkDown5 & CPI & Unemployment & IsHoliday\\\\\n",
       "  & <int> & <chr> & <dbl> & <dbl> & <dbl> & <dbl> & <dbl> & <dbl> & <dbl> & <dbl> & <dbl> & <lgl>\\\\\n",
       "\\hline\n",
       "\t1 & 1 & 2010-02-05 & 42.31 & 2.572 & NA & NA & NA & NA & NA & 211.0964 & 8.106 & FALSE\\\\\n",
       "\t2 & 1 & 2010-02-12 & 38.51 & 2.548 & NA & NA & NA & NA & NA & 211.2422 & 8.106 &  TRUE\\\\\n",
       "\t3 & 1 & 2010-02-19 & 39.93 & 2.514 & NA & NA & NA & NA & NA & 211.2891 & 8.106 & FALSE\\\\\n",
       "\t4 & 1 & 2010-02-26 & 46.63 & 2.561 & NA & NA & NA & NA & NA & 211.3196 & 8.106 & FALSE\\\\\n",
       "\t5 & 1 & 2010-03-05 & 46.50 & 2.625 & NA & NA & NA & NA & NA & 211.3501 & 8.106 & FALSE\\\\\n",
       "\t6 & 1 & 2010-03-12 & 57.79 & 2.667 & NA & NA & NA & NA & NA & 211.3806 & 8.106 & FALSE\\\\\n",
       "\\end{tabular}\n"
      ],
      "text/markdown": [
       "\n",
       "A data.frame: 6 × 12\n",
       "\n",
       "| <!--/--> | Store &lt;int&gt; | Date &lt;chr&gt; | Temperature &lt;dbl&gt; | Fuel_Price &lt;dbl&gt; | MarkDown1 &lt;dbl&gt; | MarkDown2 &lt;dbl&gt; | MarkDown3 &lt;dbl&gt; | MarkDown4 &lt;dbl&gt; | MarkDown5 &lt;dbl&gt; | CPI &lt;dbl&gt; | Unemployment &lt;dbl&gt; | IsHoliday &lt;lgl&gt; |\n",
       "|---|---|---|---|---|---|---|---|---|---|---|---|---|\n",
       "| 1 | 1 | 2010-02-05 | 42.31 | 2.572 | NA | NA | NA | NA | NA | 211.0964 | 8.106 | FALSE |\n",
       "| 2 | 1 | 2010-02-12 | 38.51 | 2.548 | NA | NA | NA | NA | NA | 211.2422 | 8.106 |  TRUE |\n",
       "| 3 | 1 | 2010-02-19 | 39.93 | 2.514 | NA | NA | NA | NA | NA | 211.2891 | 8.106 | FALSE |\n",
       "| 4 | 1 | 2010-02-26 | 46.63 | 2.561 | NA | NA | NA | NA | NA | 211.3196 | 8.106 | FALSE |\n",
       "| 5 | 1 | 2010-03-05 | 46.50 | 2.625 | NA | NA | NA | NA | NA | 211.3501 | 8.106 | FALSE |\n",
       "| 6 | 1 | 2010-03-12 | 57.79 | 2.667 | NA | NA | NA | NA | NA | 211.3806 | 8.106 | FALSE |\n",
       "\n"
      ],
      "text/plain": [
       "  Store Date       Temperature Fuel_Price MarkDown1 MarkDown2 MarkDown3\n",
       "1 1     2010-02-05 42.31       2.572      NA        NA        NA       \n",
       "2 1     2010-02-12 38.51       2.548      NA        NA        NA       \n",
       "3 1     2010-02-19 39.93       2.514      NA        NA        NA       \n",
       "4 1     2010-02-26 46.63       2.561      NA        NA        NA       \n",
       "5 1     2010-03-05 46.50       2.625      NA        NA        NA       \n",
       "6 1     2010-03-12 57.79       2.667      NA        NA        NA       \n",
       "  MarkDown4 MarkDown5 CPI      Unemployment IsHoliday\n",
       "1 NA        NA        211.0964 8.106        FALSE    \n",
       "2 NA        NA        211.2422 8.106         TRUE    \n",
       "3 NA        NA        211.2891 8.106        FALSE    \n",
       "4 NA        NA        211.3196 8.106        FALSE    \n",
       "5 NA        NA        211.3501 8.106        FALSE    \n",
       "6 NA        NA        211.3806 8.106        FALSE    "
      ]
     },
     "metadata": {},
     "output_type": "display_data"
    }
   ],
   "source": [
    "features <- read.csv(\"/Users/patriciomartinez/Documents/GitHub/WalmartSalesForecast/features.csv\", header = TRUE, sep = \",\")\n",
    "head(features)"
   ]
  },
  {
   "cell_type": "code",
   "execution_count": 4,
   "metadata": {
    "vscode": {
     "languageId": "r"
    }
   },
   "outputs": [
    {
     "data": {
      "text/html": [
       "<table class=\"dataframe\">\n",
       "<caption>A data.frame: 6 × 12</caption>\n",
       "<thead>\n",
       "\t<tr><th></th><th scope=col>Store</th><th scope=col>Date</th><th scope=col>Temperature</th><th scope=col>Fuel_Price</th><th scope=col>MarkDown1</th><th scope=col>MarkDown2</th><th scope=col>MarkDown3</th><th scope=col>MarkDown4</th><th scope=col>MarkDown5</th><th scope=col>CPI</th><th scope=col>Unemployment</th><th scope=col>IsHoliday</th></tr>\n",
       "\t<tr><th></th><th scope=col>&lt;int&gt;</th><th scope=col>&lt;chr&gt;</th><th scope=col>&lt;dbl&gt;</th><th scope=col>&lt;dbl&gt;</th><th scope=col>&lt;dbl&gt;</th><th scope=col>&lt;dbl&gt;</th><th scope=col>&lt;dbl&gt;</th><th scope=col>&lt;dbl&gt;</th><th scope=col>&lt;dbl&gt;</th><th scope=col>&lt;dbl&gt;</th><th scope=col>&lt;dbl&gt;</th><th scope=col>&lt;lgl&gt;</th></tr>\n",
       "</thead>\n",
       "<tbody>\n",
       "\t<tr><th scope=row>1</th><td>1</td><td>2010-02-05</td><td>42.31</td><td>2.572</td><td>NA</td><td>NA</td><td>NA</td><td>NA</td><td>NA</td><td>211.0964</td><td>8.106</td><td>FALSE</td></tr>\n",
       "\t<tr><th scope=row>2</th><td>1</td><td>2010-02-12</td><td>38.51</td><td>2.548</td><td>NA</td><td>NA</td><td>NA</td><td>NA</td><td>NA</td><td>211.2422</td><td>8.106</td><td> TRUE</td></tr>\n",
       "\t<tr><th scope=row>3</th><td>1</td><td>2010-02-19</td><td>39.93</td><td>2.514</td><td>NA</td><td>NA</td><td>NA</td><td>NA</td><td>NA</td><td>211.2891</td><td>8.106</td><td>FALSE</td></tr>\n",
       "\t<tr><th scope=row>4</th><td>1</td><td>2010-02-26</td><td>46.63</td><td>2.561</td><td>NA</td><td>NA</td><td>NA</td><td>NA</td><td>NA</td><td>211.3196</td><td>8.106</td><td>FALSE</td></tr>\n",
       "\t<tr><th scope=row>5</th><td>1</td><td>2010-03-05</td><td>46.50</td><td>2.625</td><td>NA</td><td>NA</td><td>NA</td><td>NA</td><td>NA</td><td>211.3501</td><td>8.106</td><td>FALSE</td></tr>\n",
       "\t<tr><th scope=row>6</th><td>1</td><td>2010-03-12</td><td>57.79</td><td>2.667</td><td>NA</td><td>NA</td><td>NA</td><td>NA</td><td>NA</td><td>211.3806</td><td>8.106</td><td>FALSE</td></tr>\n",
       "</tbody>\n",
       "</table>\n"
      ],
      "text/latex": [
       "A data.frame: 6 × 12\n",
       "\\begin{tabular}{r|llllllllllll}\n",
       "  & Store & Date & Temperature & Fuel\\_Price & MarkDown1 & MarkDown2 & MarkDown3 & MarkDown4 & MarkDown5 & CPI & Unemployment & IsHoliday\\\\\n",
       "  & <int> & <chr> & <dbl> & <dbl> & <dbl> & <dbl> & <dbl> & <dbl> & <dbl> & <dbl> & <dbl> & <lgl>\\\\\n",
       "\\hline\n",
       "\t1 & 1 & 2010-02-05 & 42.31 & 2.572 & NA & NA & NA & NA & NA & 211.0964 & 8.106 & FALSE\\\\\n",
       "\t2 & 1 & 2010-02-12 & 38.51 & 2.548 & NA & NA & NA & NA & NA & 211.2422 & 8.106 &  TRUE\\\\\n",
       "\t3 & 1 & 2010-02-19 & 39.93 & 2.514 & NA & NA & NA & NA & NA & 211.2891 & 8.106 & FALSE\\\\\n",
       "\t4 & 1 & 2010-02-26 & 46.63 & 2.561 & NA & NA & NA & NA & NA & 211.3196 & 8.106 & FALSE\\\\\n",
       "\t5 & 1 & 2010-03-05 & 46.50 & 2.625 & NA & NA & NA & NA & NA & 211.3501 & 8.106 & FALSE\\\\\n",
       "\t6 & 1 & 2010-03-12 & 57.79 & 2.667 & NA & NA & NA & NA & NA & 211.3806 & 8.106 & FALSE\\\\\n",
       "\\end{tabular}\n"
      ],
      "text/markdown": [
       "\n",
       "A data.frame: 6 × 12\n",
       "\n",
       "| <!--/--> | Store &lt;int&gt; | Date &lt;chr&gt; | Temperature &lt;dbl&gt; | Fuel_Price &lt;dbl&gt; | MarkDown1 &lt;dbl&gt; | MarkDown2 &lt;dbl&gt; | MarkDown3 &lt;dbl&gt; | MarkDown4 &lt;dbl&gt; | MarkDown5 &lt;dbl&gt; | CPI &lt;dbl&gt; | Unemployment &lt;dbl&gt; | IsHoliday &lt;lgl&gt; |\n",
       "|---|---|---|---|---|---|---|---|---|---|---|---|---|\n",
       "| 1 | 1 | 2010-02-05 | 42.31 | 2.572 | NA | NA | NA | NA | NA | 211.0964 | 8.106 | FALSE |\n",
       "| 2 | 1 | 2010-02-12 | 38.51 | 2.548 | NA | NA | NA | NA | NA | 211.2422 | 8.106 |  TRUE |\n",
       "| 3 | 1 | 2010-02-19 | 39.93 | 2.514 | NA | NA | NA | NA | NA | 211.2891 | 8.106 | FALSE |\n",
       "| 4 | 1 | 2010-02-26 | 46.63 | 2.561 | NA | NA | NA | NA | NA | 211.3196 | 8.106 | FALSE |\n",
       "| 5 | 1 | 2010-03-05 | 46.50 | 2.625 | NA | NA | NA | NA | NA | 211.3501 | 8.106 | FALSE |\n",
       "| 6 | 1 | 2010-03-12 | 57.79 | 2.667 | NA | NA | NA | NA | NA | 211.3806 | 8.106 | FALSE |\n",
       "\n"
      ],
      "text/plain": [
       "  Store Date       Temperature Fuel_Price MarkDown1 MarkDown2 MarkDown3\n",
       "1 1     2010-02-05 42.31       2.572      NA        NA        NA       \n",
       "2 1     2010-02-12 38.51       2.548      NA        NA        NA       \n",
       "3 1     2010-02-19 39.93       2.514      NA        NA        NA       \n",
       "4 1     2010-02-26 46.63       2.561      NA        NA        NA       \n",
       "5 1     2010-03-05 46.50       2.625      NA        NA        NA       \n",
       "6 1     2010-03-12 57.79       2.667      NA        NA        NA       \n",
       "  MarkDown4 MarkDown5 CPI      Unemployment IsHoliday\n",
       "1 NA        NA        211.0964 8.106        FALSE    \n",
       "2 NA        NA        211.2422 8.106         TRUE    \n",
       "3 NA        NA        211.2891 8.106        FALSE    \n",
       "4 NA        NA        211.3196 8.106        FALSE    \n",
       "5 NA        NA        211.3501 8.106        FALSE    \n",
       "6 NA        NA        211.3806 8.106        FALSE    "
      ]
     },
     "metadata": {},
     "output_type": "display_data"
    }
   ],
   "source": [
    "stores <- read.csv(\"/Users/patriciomartinez/Documents/GitHub/WalmartSalesForecast/features.csv\")\n",
    "head(stores)"
   ]
  },
  {
   "cell_type": "code",
   "execution_count": 6,
   "metadata": {
    "vscode": {
     "languageId": "r"
    }
   },
   "outputs": [
    {
     "data": {
      "text/html": [
       "<table class=\"dataframe\">\n",
       "<caption>A data.frame: 6 × 4</caption>\n",
       "<thead>\n",
       "\t<tr><th></th><th scope=col>Store</th><th scope=col>Dept</th><th scope=col>Date</th><th scope=col>IsHoliday</th></tr>\n",
       "\t<tr><th></th><th scope=col>&lt;int&gt;</th><th scope=col>&lt;int&gt;</th><th scope=col>&lt;chr&gt;</th><th scope=col>&lt;lgl&gt;</th></tr>\n",
       "</thead>\n",
       "<tbody>\n",
       "\t<tr><th scope=row>1</th><td>1</td><td>1</td><td>2012-11-02</td><td>FALSE</td></tr>\n",
       "\t<tr><th scope=row>2</th><td>1</td><td>1</td><td>2012-11-09</td><td>FALSE</td></tr>\n",
       "\t<tr><th scope=row>3</th><td>1</td><td>1</td><td>2012-11-16</td><td>FALSE</td></tr>\n",
       "\t<tr><th scope=row>4</th><td>1</td><td>1</td><td>2012-11-23</td><td> TRUE</td></tr>\n",
       "\t<tr><th scope=row>5</th><td>1</td><td>1</td><td>2012-11-30</td><td>FALSE</td></tr>\n",
       "\t<tr><th scope=row>6</th><td>1</td><td>1</td><td>2012-12-07</td><td>FALSE</td></tr>\n",
       "</tbody>\n",
       "</table>\n"
      ],
      "text/latex": [
       "A data.frame: 6 × 4\n",
       "\\begin{tabular}{r|llll}\n",
       "  & Store & Dept & Date & IsHoliday\\\\\n",
       "  & <int> & <int> & <chr> & <lgl>\\\\\n",
       "\\hline\n",
       "\t1 & 1 & 1 & 2012-11-02 & FALSE\\\\\n",
       "\t2 & 1 & 1 & 2012-11-09 & FALSE\\\\\n",
       "\t3 & 1 & 1 & 2012-11-16 & FALSE\\\\\n",
       "\t4 & 1 & 1 & 2012-11-23 &  TRUE\\\\\n",
       "\t5 & 1 & 1 & 2012-11-30 & FALSE\\\\\n",
       "\t6 & 1 & 1 & 2012-12-07 & FALSE\\\\\n",
       "\\end{tabular}\n"
      ],
      "text/markdown": [
       "\n",
       "A data.frame: 6 × 4\n",
       "\n",
       "| <!--/--> | Store &lt;int&gt; | Dept &lt;int&gt; | Date &lt;chr&gt; | IsHoliday &lt;lgl&gt; |\n",
       "|---|---|---|---|---|\n",
       "| 1 | 1 | 1 | 2012-11-02 | FALSE |\n",
       "| 2 | 1 | 1 | 2012-11-09 | FALSE |\n",
       "| 3 | 1 | 1 | 2012-11-16 | FALSE |\n",
       "| 4 | 1 | 1 | 2012-11-23 |  TRUE |\n",
       "| 5 | 1 | 1 | 2012-11-30 | FALSE |\n",
       "| 6 | 1 | 1 | 2012-12-07 | FALSE |\n",
       "\n"
      ],
      "text/plain": [
       "  Store Dept Date       IsHoliday\n",
       "1 1     1    2012-11-02 FALSE    \n",
       "2 1     1    2012-11-09 FALSE    \n",
       "3 1     1    2012-11-16 FALSE    \n",
       "4 1     1    2012-11-23  TRUE    \n",
       "5 1     1    2012-11-30 FALSE    \n",
       "6 1     1    2012-12-07 FALSE    "
      ]
     },
     "metadata": {},
     "output_type": "display_data"
    }
   ],
   "source": [
    "test <- read.csv(\"/Users/patriciomartinez/Documents/GitHub/WalmartSalesForecast/test.csv\")\n",
    "head(test)"
   ]
  },
  {
   "cell_type": "code",
   "execution_count": 7,
   "metadata": {
    "vscode": {
     "languageId": "r"
    }
   },
   "outputs": [
    {
     "data": {
      "text/html": [
       "<table class=\"dataframe\">\n",
       "<caption>A data.frame: 6 × 5</caption>\n",
       "<thead>\n",
       "\t<tr><th></th><th scope=col>Store</th><th scope=col>Dept</th><th scope=col>Date</th><th scope=col>Weekly_Sales</th><th scope=col>IsHoliday</th></tr>\n",
       "\t<tr><th></th><th scope=col>&lt;int&gt;</th><th scope=col>&lt;int&gt;</th><th scope=col>&lt;chr&gt;</th><th scope=col>&lt;dbl&gt;</th><th scope=col>&lt;lgl&gt;</th></tr>\n",
       "</thead>\n",
       "<tbody>\n",
       "\t<tr><th scope=row>1</th><td>1</td><td>1</td><td>2010-02-05</td><td>24924.50</td><td>FALSE</td></tr>\n",
       "\t<tr><th scope=row>2</th><td>1</td><td>1</td><td>2010-02-12</td><td>46039.49</td><td> TRUE</td></tr>\n",
       "\t<tr><th scope=row>3</th><td>1</td><td>1</td><td>2010-02-19</td><td>41595.55</td><td>FALSE</td></tr>\n",
       "\t<tr><th scope=row>4</th><td>1</td><td>1</td><td>2010-02-26</td><td>19403.54</td><td>FALSE</td></tr>\n",
       "\t<tr><th scope=row>5</th><td>1</td><td>1</td><td>2010-03-05</td><td>21827.90</td><td>FALSE</td></tr>\n",
       "\t<tr><th scope=row>6</th><td>1</td><td>1</td><td>2010-03-12</td><td>21043.39</td><td>FALSE</td></tr>\n",
       "</tbody>\n",
       "</table>\n"
      ],
      "text/latex": [
       "A data.frame: 6 × 5\n",
       "\\begin{tabular}{r|lllll}\n",
       "  & Store & Dept & Date & Weekly\\_Sales & IsHoliday\\\\\n",
       "  & <int> & <int> & <chr> & <dbl> & <lgl>\\\\\n",
       "\\hline\n",
       "\t1 & 1 & 1 & 2010-02-05 & 24924.50 & FALSE\\\\\n",
       "\t2 & 1 & 1 & 2010-02-12 & 46039.49 &  TRUE\\\\\n",
       "\t3 & 1 & 1 & 2010-02-19 & 41595.55 & FALSE\\\\\n",
       "\t4 & 1 & 1 & 2010-02-26 & 19403.54 & FALSE\\\\\n",
       "\t5 & 1 & 1 & 2010-03-05 & 21827.90 & FALSE\\\\\n",
       "\t6 & 1 & 1 & 2010-03-12 & 21043.39 & FALSE\\\\\n",
       "\\end{tabular}\n"
      ],
      "text/markdown": [
       "\n",
       "A data.frame: 6 × 5\n",
       "\n",
       "| <!--/--> | Store &lt;int&gt; | Dept &lt;int&gt; | Date &lt;chr&gt; | Weekly_Sales &lt;dbl&gt; | IsHoliday &lt;lgl&gt; |\n",
       "|---|---|---|---|---|---|\n",
       "| 1 | 1 | 1 | 2010-02-05 | 24924.50 | FALSE |\n",
       "| 2 | 1 | 1 | 2010-02-12 | 46039.49 |  TRUE |\n",
       "| 3 | 1 | 1 | 2010-02-19 | 41595.55 | FALSE |\n",
       "| 4 | 1 | 1 | 2010-02-26 | 19403.54 | FALSE |\n",
       "| 5 | 1 | 1 | 2010-03-05 | 21827.90 | FALSE |\n",
       "| 6 | 1 | 1 | 2010-03-12 | 21043.39 | FALSE |\n",
       "\n"
      ],
      "text/plain": [
       "  Store Dept Date       Weekly_Sales IsHoliday\n",
       "1 1     1    2010-02-05 24924.50     FALSE    \n",
       "2 1     1    2010-02-12 46039.49      TRUE    \n",
       "3 1     1    2010-02-19 41595.55     FALSE    \n",
       "4 1     1    2010-02-26 19403.54     FALSE    \n",
       "5 1     1    2010-03-05 21827.90     FALSE    \n",
       "6 1     1    2010-03-12 21043.39     FALSE    "
      ]
     },
     "metadata": {},
     "output_type": "display_data"
    }
   ],
   "source": [
    "train <- read.csv(\"/Users/patriciomartinez/Documents/GitHub/WalmartSalesForecast/train.csv\")\n",
    "head(train)"
   ]
  },
  {
   "cell_type": "code",
   "execution_count": null,
   "metadata": {
    "vscode": {
     "languageId": "r"
    }
   },
   "outputs": [],
   "source": []
  }
 ],
 "metadata": {
  "kernelspec": {
   "display_name": "R",
   "language": "R",
   "name": "ir"
  },
  "language_info": {
   "codemirror_mode": "r",
   "file_extension": ".r",
   "mimetype": "text/x-r-source",
   "name": "R",
   "pygments_lexer": "r",
   "version": "4.1.1"
  }
 },
 "nbformat": 4,
 "nbformat_minor": 2
}
